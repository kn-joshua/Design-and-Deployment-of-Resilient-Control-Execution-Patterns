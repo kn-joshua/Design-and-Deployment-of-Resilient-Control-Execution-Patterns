{
  "cells": [
    {
      "cell_type": "markdown",
      "id": "cd68e761",
      "metadata": {
        "id": "cd68e761"
      },
      "source": [
        "### CS637 Project\n",
        "### FDI Detection\n",
        "\n"
      ]
    },
    {
      "cell_type": "code",
      "execution_count": null,
      "id": "6b3baa68",
      "metadata": {
        "scrolled": true,
        "colab": {
          "base_uri": "https://localhost:8080/"
        },
        "id": "6b3baa68",
        "outputId": "59af297e-4ec7-4d6f-a76c-ddc98453b6b9"
      },
      "outputs": [
        {
          "output_type": "stream",
          "name": "stdout",
          "text": [
            "Requirement already satisfied: scipy in /usr/local/lib/python3.10/dist-packages (1.13.1)\n",
            "Requirement already satisfied: h5py in /usr/local/lib/python3.10/dist-packages (3.12.1)\n",
            "Requirement already satisfied: numpy in /usr/local/lib/python3.10/dist-packages (1.26.4)\n",
            "Requirement already satisfied: pandas in /usr/local/lib/python3.10/dist-packages (2.2.2)\n",
            "Requirement already satisfied: torch in /usr/local/lib/python3.10/dist-packages (2.5.0+cu121)\n",
            "Requirement already satisfied: scikit-learn in /usr/local/lib/python3.10/dist-packages (1.5.2)\n",
            "Requirement already satisfied: python-dateutil>=2.8.2 in /usr/local/lib/python3.10/dist-packages (from pandas) (2.8.2)\n",
            "Requirement already satisfied: pytz>=2020.1 in /usr/local/lib/python3.10/dist-packages (from pandas) (2024.2)\n",
            "Requirement already satisfied: tzdata>=2022.7 in /usr/local/lib/python3.10/dist-packages (from pandas) (2024.2)\n",
            "Requirement already satisfied: filelock in /usr/local/lib/python3.10/dist-packages (from torch) (3.16.1)\n",
            "Requirement already satisfied: typing-extensions>=4.8.0 in /usr/local/lib/python3.10/dist-packages (from torch) (4.12.2)\n",
            "Requirement already satisfied: networkx in /usr/local/lib/python3.10/dist-packages (from torch) (3.4.2)\n",
            "Requirement already satisfied: jinja2 in /usr/local/lib/python3.10/dist-packages (from torch) (3.1.4)\n",
            "Requirement already satisfied: fsspec in /usr/local/lib/python3.10/dist-packages (from torch) (2024.10.0)\n",
            "Requirement already satisfied: sympy==1.13.1 in /usr/local/lib/python3.10/dist-packages (from torch) (1.13.1)\n",
            "Requirement already satisfied: mpmath<1.4,>=1.1.0 in /usr/local/lib/python3.10/dist-packages (from sympy==1.13.1->torch) (1.3.0)\n",
            "Requirement already satisfied: joblib>=1.2.0 in /usr/local/lib/python3.10/dist-packages (from scikit-learn) (1.4.2)\n",
            "Requirement already satisfied: threadpoolctl>=3.1.0 in /usr/local/lib/python3.10/dist-packages (from scikit-learn) (3.5.0)\n",
            "Requirement already satisfied: six>=1.5 in /usr/local/lib/python3.10/dist-packages (from python-dateutil>=2.8.2->pandas) (1.16.0)\n",
            "Requirement already satisfied: MarkupSafe>=2.0 in /usr/local/lib/python3.10/dist-packages (from jinja2->torch) (3.0.2)\n"
          ]
        }
      ],
      "source": [
        "!pip install scipy h5py numpy pandas torch scikit-learn\n"
      ]
    },
    {
      "cell_type": "code",
      "source": [],
      "metadata": {
        "id": "R73SWM44KqLO"
      },
      "id": "R73SWM44KqLO",
      "execution_count": null,
      "outputs": []
    },
    {
      "cell_type": "code",
      "source": [],
      "metadata": {
        "id": "iqOdK2g0qaqI"
      },
      "id": "iqOdK2g0qaqI",
      "execution_count": null,
      "outputs": []
    },
    {
      "cell_type": "code",
      "source": [
        "import scipy.io\n",
        "import h5py\n",
        "import numpy as np\n",
        "\n",
        "def load_mat_file(file_path):\n",
        "    \"\"\"\n",
        "    Loads a .mat file using scipy.io.loadmat or h5py based on the file version.\n",
        "\n",
        "    Parameters:\n",
        "        file_path (str): Path to the .mat file.\n",
        "\n",
        "    Returns:\n",
        "        dict or None: Dictionary containing MATLAB variables if successful, else None.\n",
        "    \"\"\"\n",
        "    try:\n",
        "        # Attempt to load with scipy.io.loadmat (supports v4-v7.2)\n",
        "        mat = scipy.io.loadmat(file_path)\n",
        "        print(\"Loaded .mat file using scipy.io.loadmat\")\n",
        "    except NotImplementedError:\n",
        "        # If NotImplementedError, likely a v7.3 file; use h5py\n",
        "        try:\n",
        "            with h5py.File(file_path, 'r') as mat_h5:\n",
        "                # Convert h5py datasets to NumPy arrays\n",
        "                mat = {key: np.array(mat_h5[key]) for key in mat_h5.keys() if not key.startswith('__')}\n",
        "            print(\"Loaded .mat file using h5py\")\n",
        "        except Exception as e:\n",
        "            print(f\"Error loading .mat file with h5py: {e}\")\n",
        "            mat = None\n",
        "    except FileNotFoundError:\n",
        "        print(f\"File not found: {file_path}\")\n",
        "        mat = None\n",
        "    except Exception as e:\n",
        "        print(f\"Error loading .mat file with scipy.io.loadmat: {e}\")\n",
        "        mat = None\n",
        "    return mat\n"
      ],
      "metadata": {
        "id": "xooL30wFpKQU"
      },
      "id": "xooL30wFpKQU",
      "execution_count": null,
      "outputs": []
    },
    {
      "cell_type": "code",
      "source": [
        "# Specify the file path\n",
        "file_path = '/content/attack_vectors.mat'\n",
        "\n",
        "# Load the .mat file\n",
        "mat_data = load_mat_file(file_path)\n",
        "\n",
        "# Check if loading was successful\n",
        "if mat_data is not None:\n",
        "    print(\"MAT file loaded successfully.\")\n",
        "else:\n",
        "    print(\"Failed to load the MAT file.\")\n"
      ],
      "metadata": {
        "colab": {
          "base_uri": "https://localhost:8080/"
        },
        "id": "URhZJ7GqqKZi",
        "outputId": "ac07b4a5-ca7e-4db3-f336-6856733a4edb"
      },
      "id": "URhZJ7GqqKZi",
      "execution_count": null,
      "outputs": [
        {
          "output_type": "stream",
          "name": "stdout",
          "text": [
            "Loaded .mat file using scipy.io.loadmat\n",
            "MAT file loaded successfully.\n"
          ]
        }
      ]
    },
    {
      "cell_type": "code",
      "source": [
        "if mat_data is not None:\n",
        "    print(\"Variables in the MAT file:\")\n",
        "    for key in mat_data.keys():\n",
        "        print(f\"- {key}\")\n"
      ],
      "metadata": {
        "colab": {
          "base_uri": "https://localhost:8080/"
        },
        "id": "AGQIxN2Yqcd2",
        "outputId": "e427ac52-0e6e-47b1-f6c6-f1bc539405ea"
      },
      "id": "AGQIxN2Yqcd2",
      "execution_count": null,
      "outputs": [
        {
          "output_type": "stream",
          "name": "stdout",
          "text": [
            "Variables in the MAT file:\n",
            "- __header__\n",
            "- __version__\n",
            "- __globals__\n",
            "- dataset\n"
          ]
        }
      ]
    },
    {
      "cell_type": "code",
      "source": [
        "# Replace 'dataset' with the actual variable name from your .mat file\n",
        "variable_name = 'dataset'  # Update this based on your MAT file\n",
        "\n",
        "if variable_name in mat_data:\n",
        "    dataset = mat_data[variable_name]\n",
        "    print(f\"Loaded variable '{variable_name}' with shape {dataset.shape}\")\n",
        "else:\n",
        "    print(f\"Variable '{variable_name}' not found in the MAT file.\")\n",
        "    print(\"Available variables:\")\n",
        "    for key in mat_data.keys():\n",
        "        print(f\"- {key}\")\n"
      ],
      "metadata": {
        "colab": {
          "base_uri": "https://localhost:8080/"
        },
        "id": "QH4F9FqTqnoV",
        "outputId": "48c251e0-3f9b-4bcd-9c2b-5ecb3f14ea4c"
      },
      "id": "QH4F9FqTqnoV",
      "execution_count": null,
      "outputs": [
        {
          "output_type": "stream",
          "name": "stdout",
          "text": [
            "Loaded variable 'dataset' with shape (2, 16, 100)\n"
          ]
        }
      ]
    },
    {
      "cell_type": "code",
      "source": [
        "# Transpose to (100, 2, 16)\n",
        "dataset = np.transpose(dataset, (2, 0, 1))\n",
        "print(f\"Transposed dataset shape: {dataset.shape}\")  # Expected: (100, 2, 16)\n"
      ],
      "metadata": {
        "colab": {
          "base_uri": "https://localhost:8080/"
        },
        "id": "8xkpvIP9qsz3",
        "outputId": "61d09472-a8a4-4a64-8329-be27c9d8f23d"
      },
      "id": "8xkpvIP9qsz3",
      "execution_count": null,
      "outputs": [
        {
          "output_type": "stream",
          "name": "stdout",
          "text": [
            "Transposed dataset shape: (100, 2, 16)\n"
          ]
        }
      ]
    },
    {
      "cell_type": "code",
      "source": [
        "# Initialize lists to store processed data\n",
        "processed_data = []\n",
        "\n",
        "# Define dpast and dfuture\n",
        "dpast = 3\n",
        "dfuture = 8\n",
        "\n",
        "for idx, sample in enumerate(dataset):\n",
        "    # Extract a_u and a_y\n",
        "    a_u = sample[0, :14]  # Columns 0-13\n",
        "    a_y = sample[1, :14]  # Columns 0-13\n",
        "\n",
        "    # Extract size_a and x0\n",
        "    size_a = int(sample[0, 14])  # Assuming size_a is in the 15th column\n",
        "    x0 = sample[:, 15]  # 16th column; shape: (2,)\n",
        "\n",
        "    # # Validate size_a\n",
        "    # if size_a < (dpast + dfuture) or size_a > 11:\n",
        "    #     print(f\"Skipping sample {idx}: size_a = {size_a}\")\n",
        "    #     continue  # Skip samples that don't meet the criteria\n",
        "\n",
        "    # # Extract actual attack vectors based on size_a\n",
        "    # a_u_actual = a_u[:size_a]\n",
        "    # a_y_actual = a_y[:size_a]\n",
        "\n",
        "    # Split into dpast and dfuture\n",
        "    past_a_u = a_u[:dpast]\n",
        "    past_a_y = a_y[:dpast]\n",
        "\n",
        "    future_a_u = a_u[dpast:dpast + dfuture]\n",
        "    future_a_y = a_y[dpast:dpast + dfuture]\n",
        "\n",
        "    # Concatenate a_u and a_y for each timestep\n",
        "    past = np.stack((past_a_u, past_a_y), axis=1) # Shape: (dpast * 2,)\n",
        "    # past = past.reshape(dpast, 2)  # Shape: (dpast, 2)\n",
        "\n",
        "    future = np.stack((future_a_u, future_a_y), axis=1) # Shape: (dfuture * 2,)\n",
        "    # future = future.reshape(dfuture, 2)  # Shape: (dfuture, 2)\n",
        "\n",
        "    # Store the processed sample\n",
        "    processed_data.append({\n",
        "        'input': past,      # Shape: (dpast, 2)\n",
        "        'target': future,   # Shape: (dfuture, 2)\n",
        "        'x0': x0            # Shape: (2,)\n",
        "    })\n",
        "\n",
        "print(f\"Total processed data points: {len(processed_data)} out of {dataset.shape[0]}\")\n",
        "processed_data[2]\n",
        "\n"
      ],
      "metadata": {
        "colab": {
          "base_uri": "https://localhost:8080/"
        },
        "id": "b3LGSYJ-qxWc",
        "outputId": "703716e5-960e-4c50-ce4b-0ca9a8e24950"
      },
      "id": "b3LGSYJ-qxWc",
      "execution_count": null,
      "outputs": [
        {
          "output_type": "stream",
          "name": "stdout",
          "text": [
            "Total processed data points: 100 out of 100\n"
          ]
        },
        {
          "output_type": "execute_result",
          "data": {
            "text/plain": [
              "{'input': array([[ 5.39376539e+02, -2.69388269e+00],\n",
              "        [ 1.66031569e+02, -8.91529367e+00],\n",
              "        [-6.20590040e-02, -1.59746807e+01]]),\n",
              " 'target': array([[ -73.27878179,  -22.67025958],\n",
              "        [1100.79318712,  -34.50630641],\n",
              "        [   0.        ,    0.        ],\n",
              "        [   0.        ,    0.        ],\n",
              "        [   0.        ,    0.        ],\n",
              "        [   0.        ,    0.        ],\n",
              "        [   0.        ,    0.        ],\n",
              "        [   0.        ,    0.        ]]),\n",
              " 'x0': array([21.18186706,  6.10275657])}"
            ]
          },
          "metadata": {},
          "execution_count": 6
        }
      ]
    },
    {
      "cell_type": "code",
      "source": [
        "# Define your system matrices (replace with actual values from your script)\n",
        "A = np.array([[1, 0.1],\n",
        "              [0, 1]])  # Example state transition matrix\n",
        "\n",
        "B = np.array([[0.005],\n",
        "              [0.1]])    # Example control input matrix\n",
        "\n",
        "C = np.array([1, 0])      # Example output matrix\n",
        "\n",
        "K = np.array([16.0302, 5.6622])   # Controller gain vector\n",
        "\n",
        "L = np.array([[1.8721],\n",
        "              [9.6532]])          # Observer gain matrix\n",
        "\n",
        "# h = 0.1\n"
      ],
      "metadata": {
        "id": "YsmgX1n6w3vA"
      },
      "id": "YsmgX1n6w3vA",
      "execution_count": null,
      "outputs": []
    },
    {
      "cell_type": "code",
      "source": [
        "\n",
        "# Lists to store inputs, outputs, and intermediate variables\n",
        "model_inputs = []    # Each element: {'a_u_past': [...], 'a_y_past': [...]}\n",
        "model_outputs = []   # Each element: {'y_tilda_future': [...], 'ra_future': [...]}\n",
        "intermediate_vars = []  # Each element: {'data_point_index': int, 'past': [...], 'future': [...]}\n",
        "\n",
        "for idx, data_point in enumerate(processed_data):\n",
        "    # Extract inputs and targets\n",
        "    a_u_past = data_point['input'][:, 0]       # Shape: (dpast,)\n",
        "    a_y_past = data_point['input'][:, 1]       # Shape: (dpast,)\n",
        "    a_u_future = data_point['target'][:, 0]    # Shape: (dfuture,)\n",
        "    a_y_future = data_point['target'][:, 1]    # Shape: (dfuture,)\n",
        "    x0 = data_point['x0']                      # Shape: (2,)\n",
        "\n",
        "    # Initialize actual and estimated states\n",
        "    x_a = x0.copy()       # Actual state\n",
        "    xhat_a = x0.copy()    # Estimated state\n",
        "\n",
        "    # Initialize lists to store outputs\n",
        "    y_a_past = []\n",
        "    r_a_past = []\n",
        "    y_tilda_a_future = []\n",
        "    r_a_future = []\n",
        "\n",
        "    # Initialize lists to store intermediate variables\n",
        "    vars_past = []\n",
        "    vars_future = []\n",
        "\n",
        "    # -----------------------------\n",
        "    # Initial Step for dpast Timesteps\n",
        "    # -----------------------------\n",
        "\n",
        "    # Handle the first timestep (t=0) outside the loop\n",
        "    t = 0\n",
        "    a_u_k = a_u_past[t]\n",
        "    a_y_k = a_y_past[t]\n",
        "\n",
        "    # Controller input\n",
        "    u_a = -K @ xhat_a   # Scalar\n",
        "\n",
        "    # Attack-controlled input\n",
        "    uhat_a = u_a + a_u_k    # Scalar\n",
        "\n",
        "    # Compute y_a(k) based on x_a(k)\n",
        "    y_a_current = C @ x_a + a_y_k  # Scalar\n",
        "\n",
        "    # # Update actual state x_a(k+1)\n",
        "    # x_a_new = A @ x_a + B.flatten() * uhat_a + w_k  # Shape: (2,)\n",
        "\n",
        "    # # Compute y_a(k+1) based on x_a(k+1)\n",
        "    # y_a_next = C @ x_a_new + v_k  # Assuming a_y(k+1) is handled separately\n",
        "\n",
        "    # # Compute yhat_a(k+1)\n",
        "    # yhat_a_next = C @ (A @ xhat_a + B.flatten() * u_a)  # Scalar\n",
        "\n",
        "    # # Compute residual r_a(k+1)\n",
        "    # r_a_next = y_a_next - yhat_a_next  # Scalar\n",
        "\n",
        "    # Update estimated state xhat_a(k+1)\n",
        "    # xhat_a_new = A @ xhat_a + B.flatten() * u_a + L.flatten() * r_a_next  # Shape: (2,)\n",
        "\n",
        "    # # Compute estimation error e_a(k)\n",
        "    # e_a = x_a - xhat_a  # Shape: (2,)\n",
        "\n",
        "    # Compute y_tilda for first timestep\n",
        "    y_tilda = y_a_current - a_y_k  # y_tilda = y_a - a_y\n",
        "\n",
        "    # Store y_tilda and r_a for the first timestep\n",
        "    y_a_past.append(y_a_current)\n",
        "    r_a_past.append(0)\n",
        "\n",
        "    # Preserve intermediate variables for the first timestep\n",
        "    vars_past.append({\n",
        "        'timestep': t+1 ,\n",
        "        'x_a': x_a.copy(),\n",
        "        'xhat_a': xhat_a.copy(),\n",
        "        'u_a': u_a,\n",
        "        'uhat_a': uhat_a,\n",
        "        'y_a': y_a_current,\n",
        "        'yhat_a': y_a_current,\n",
        "        'r_a': 0 ,\n",
        "        'y_tilda': y_tilda\n",
        "    })\n",
        "\n",
        "    # Update states for next timestep\n",
        "    # x_a = x_a_new.copy()\n",
        "    # xhat_a = xhat_a_new.copy()\n",
        "\n",
        "    # -----------------------------\n",
        "    # Compute for Remaining dpast Timesteps (t=1 to dpast-1)\n",
        "    # -----------------------------\n",
        "\n",
        "    for t in range(1, dpast):\n",
        "        a_u_k = a_u_past[t]\n",
        "        a_y_k = a_y_past[t]\n",
        "\n",
        "        x_a_new = A @ x_a + B.flatten() * uhat_a   # Shape: (2,)\n",
        "\n",
        "        y_a_current = C @ x_a_new + a_y_k\n",
        "\n",
        "                # Compute yhat_a(k+1)\n",
        "        yhat_a_current = C @ (A @ xhat_a + B.flatten() * u_a)  # Scalar\n",
        "\n",
        "                # Compute residual r_a(k+1)\n",
        "        r_a = y_a_current - yhat_a_current  # Scalar\n",
        "\n",
        "        xhat_a_new = A @ xhat_a + B.flatten() * u_a + L.flatten() * r_a\n",
        "\n",
        "\n",
        "        # Controller input\n",
        "        u_a = -K @ xhat_a_new   # Scalar\n",
        "\n",
        "        # Attack-controlled input\n",
        "        uhat_a = u_a + a_u_k    # Scalar\n",
        "\n",
        "\n",
        "\n",
        "        # Compute y_tilda for current timestep\n",
        "        y_tilda = y_a_current - a_y_k  # y_tilda = y_a - a_y\n",
        "\n",
        "        # Store y_tilda and r_a for current timestep\n",
        "        y_a_past.append(y_a_current)\n",
        "        r_a_past.append(r_a)\n",
        "\n",
        "        # Preserve intermediate variables\n",
        "        vars_past.append({\n",
        "            'timestep': t +1,\n",
        "            'x_a': x_a_new.copy(),\n",
        "            'xhat_a': xhat_a_new.copy(),\n",
        "            'u_a': u_a,\n",
        "            'uhat_a': uhat_a,\n",
        "            'y_a': y_a_current,\n",
        "            'yhat_a': yhat_a_current,\n",
        "            'r_a': r_a,\n",
        "            'y_tilda': y_tilda\n",
        "        })\n",
        "\n",
        "        # Update states for next timestep\n",
        "        x_a = x_a_new.copy()\n",
        "        xhat_a = xhat_a_new.copy()\n",
        "\n",
        "    # -----------------------------\n",
        "    # Compute for dfuture Timesteps\n",
        "    # -----------------------------\n",
        "\n",
        "    for t in range(dfuture):\n",
        "        a_u_k = a_u_future[t]\n",
        "        a_y_k = a_y_future[t]\n",
        "\n",
        "        x_a_new = A @ x_a + B.flatten() * uhat_a   # Shape: (2,)\n",
        "\n",
        "        y_a_current = C @ x_a_new + a_y_k\n",
        "\n",
        "                # Compute yhat_a(k+1)\n",
        "        yhat_a_current = C @ (A @ xhat_a + B.flatten() * u_a)  # Scalar\n",
        "\n",
        "                # Compute residual r_a(k+1)\n",
        "        r_a = y_a_current - yhat_a_current  # Scalar\n",
        "\n",
        "        xhat_a_new = A @ xhat_a + B.flatten() * u_a + L.flatten() * r_a\n",
        "\n",
        "\n",
        "        # Controller input\n",
        "        u_a = -K @ xhat_a_new   # Scalar\n",
        "\n",
        "        # Attack-controlled input\n",
        "        uhat_a = u_a + a_u_k    # Scalar\n",
        "\n",
        "                # Compute y_tilda for current timestep\n",
        "        y_tilda = y_a_current - a_y_k  # y_tilda = y_a - a_y\n",
        "\n",
        "        # Store y_tilda and r_a for future timestep\n",
        "        y_tilda_a_future.append(y_tilda)\n",
        "        r_a_future.append(r_a)\n",
        "\n",
        "        # Preserve intermediate variables\n",
        "        vars_future.append({\n",
        "            'timestep': t + 1,\n",
        "            'x_a': x_a_new.copy(),\n",
        "            'xhat_a': xhat_a_new.copy(),\n",
        "            'u_a': u_a,\n",
        "            'uhat_a': uhat_a,\n",
        "            'y_a': y_a_current,\n",
        "            'yhat_a': yhat_a_current,\n",
        "            'r_a': r_a,\n",
        "            'y_tilda': y_tilda,\n",
        "        })\n",
        "\n",
        "        # Update states for next timestep\n",
        "        x_a = x_a_new.copy()\n",
        "        xhat_a = xhat_a_new.copy()\n",
        "\n",
        "    # -----------------------------\n",
        "    # Store Processed Data\n",
        "    # -----------------------------\n",
        "\n",
        "    # Append to model inputs and outputs\n",
        "    model_inputs.append({\n",
        "        'y_a_past': y_a_past,   # Array of dpast a_u values\n",
        "        'r_a_past': r_a_past    # Array of dpast a_y values\n",
        "    })\n",
        "\n",
        "    model_outputs.append({\n",
        "        'y_tilda_future': y_tilda_a_future,  # List of dfuture y_tilda values\n",
        "        'ra_future': r_a_future             # List of dfuture r_a values\n",
        "    })\n",
        "\n",
        "    # Append intermediate variables\n",
        "    intermediate_vars.append({\n",
        "        'data_point_index': idx,\n",
        "        'past': vars_past,       # List of dicts for dpast timesteps\n",
        "        'future': vars_future    # List of dicts for dfuture timesteps\n",
        "    })\n",
        "\n",
        "model_inputs[0]\n"
      ],
      "metadata": {
        "colab": {
          "base_uri": "https://localhost:8080/"
        },
        "id": "QAbrcVq2xehp",
        "outputId": "7a10adee-72d6-42f9-ba3a-ca9b4386acbb"
      },
      "id": "QAbrcVq2xehp",
      "execution_count": null,
      "outputs": [
        {
          "output_type": "execute_result",
          "data": {
            "text/plain": [
              "{'y_a_past': [19.77441667750995, 14.646027542037583, 11.879963904679949],\n",
              " 'r_a_past': [0, -6.021253640476644, 9.82734890166175]}"
            ]
          },
          "metadata": {},
          "execution_count": 8
        }
      ]
    },
    {
      "cell_type": "code",
      "source": [],
      "metadata": {
        "id": "mwz5-841kjQF"
      },
      "id": "mwz5-841kjQF",
      "execution_count": null,
      "outputs": []
    },
    {
      "cell_type": "code",
      "source": [
        "import numpy as np\n",
        "import torch\n",
        "from torch.utils.data import Dataset, DataLoader  # Ensure Dataset and DataLoader are imported\n",
        "import torch.nn as nn\n",
        "from sklearn.preprocessing import StandardScaler\n",
        "import pickle"
      ],
      "metadata": {
        "id": "79jz1AzQkkxz"
      },
      "id": "79jz1AzQkkxz",
      "execution_count": null,
      "outputs": []
    },
    {
      "cell_type": "code",
      "source": [
        "\n",
        "# Convert lists to NumPy arrays\n",
        "inputs_y_a_past = np.array([item['y_a_past'] for item in model_inputs])       # Shape: (num_samples, dpast)\n",
        "inputs_r_a_past = np.array([item['r_a_past'] for item in model_inputs])       # Shape: (num_samples, dpast)\n",
        "\n",
        "outputs_y_tilda_future = np.array([item['y_tilda_future'] for item in model_outputs])  # Shape: (num_samples, dfuture)\n",
        "outputs_ra_future = np.array([item['ra_future'] for item in model_outputs])              # Shape: (num_samples, dfuture)\n",
        "\n",
        "# Combine a_u_past and a_y_past as separate features\n",
        "inputs_combined = np.stack((inputs_y_a_past, inputs_r_a_past), axis=2)  # Shape: (num_samples, dpast, 2)\n",
        "\n",
        "# Combine y_tilda_future and ra_future as output features\n",
        "outputs_combined = np.stack((outputs_y_tilda_future, outputs_ra_future), axis=2)\n",
        " # Shape: (num_samples, dfuture, 2)\n",
        "inputs_combined[0]"
      ],
      "metadata": {
        "colab": {
          "base_uri": "https://localhost:8080/"
        },
        "id": "im9W9UXfjvmt",
        "outputId": "d75f61ef-bc19-4107-c2a1-2ef60df3c018"
      },
      "id": "im9W9UXfjvmt",
      "execution_count": null,
      "outputs": [
        {
          "output_type": "execute_result",
          "data": {
            "text/plain": [
              "array([[19.77441668,  0.        ],\n",
              "       [14.64602754, -6.02125364],\n",
              "       [11.8799639 ,  9.8273489 ]])"
            ]
          },
          "metadata": {},
          "execution_count": 10
        }
      ]
    },
    {
      "cell_type": "code",
      "source": [
        "# Split into training and testing sets\n",
        "from sklearn.model_selection import train_test_split\n",
        "\n",
        "X_train, X_test, y_train, y_test = train_test_split(\n",
        "    inputs_combined, outputs_combined, test_size=0.2, random_state=42\n",
        ")\n",
        "\n",
        "print(f\"Training set shape: Inputs {X_train.shape}, Outputs {y_train.shape}\")\n",
        "print(f\"Testing set shape: Inputs {X_test.shape}, Outputs {y_test.shape}\")"
      ],
      "metadata": {
        "colab": {
          "base_uri": "https://localhost:8080/"
        },
        "id": "dwqZKnfukl9J",
        "outputId": "99476f39-77c4-47fa-f078-a52f69000579"
      },
      "id": "dwqZKnfukl9J",
      "execution_count": null,
      "outputs": [
        {
          "output_type": "stream",
          "name": "stdout",
          "text": [
            "Training set shape: Inputs (80, 3, 2), Outputs (80, 8, 2)\n",
            "Testing set shape: Inputs (20, 3, 2), Outputs (20, 8, 2)\n"
          ]
        }
      ]
    },
    {
      "cell_type": "code",
      "source": [
        "\n",
        "class AttackDataset(Dataset):\n",
        "    def __init__(self, inputs, targets):\n",
        "        \"\"\"\n",
        "        Args:\n",
        "            inputs (numpy array): Shape (num_samples, dpast, 2)\n",
        "            targets (numpy array): Shape (num_samples, dfuture, 2)\n",
        "        \"\"\"\n",
        "        self.inputs = torch.tensor(inputs, dtype=torch.float32)\n",
        "        self.targets = torch.tensor(targets, dtype=torch.float32)\n",
        "\n",
        "    def __len__(self):\n",
        "        return len(self.inputs)\n",
        "\n",
        "    def __getitem__(self, idx):\n",
        "        return self.inputs[idx], self.targets[idx]\n"
      ],
      "metadata": {
        "id": "g_BBRg61kvmo"
      },
      "id": "g_BBRg61kvmo",
      "execution_count": null,
      "outputs": []
    },
    {
      "cell_type": "code",
      "source": [
        "# Create datasets\n",
        "train_dataset = AttackDataset(X_train, y_train)\n",
        "test_dataset = AttackDataset(X_test, y_test)\n",
        "\n",
        "# Create DataLoaders\n",
        "batch_size = 16\n",
        "train_loader = DataLoader(train_dataset, batch_size=batch_size, shuffle=True)\n",
        "test_loader = DataLoader(test_dataset, batch_size=batch_size, shuffle=False)\n",
        "\n",
        "print(f\"Training samples: {len(train_loader.dataset)}\")\n",
        "print(f\"Testing samples: {len(test_loader.dataset)}\")"
      ],
      "metadata": {
        "colab": {
          "base_uri": "https://localhost:8080/"
        },
        "id": "PmW5xu3Ol7ty",
        "outputId": "264e12cc-7c58-4f31-9ba1-3fd3cff1fe17"
      },
      "id": "PmW5xu3Ol7ty",
      "execution_count": null,
      "outputs": [
        {
          "output_type": "stream",
          "name": "stdout",
          "text": [
            "Training samples: 80\n",
            "Testing samples: 20\n"
          ]
        }
      ]
    },
    {
      "cell_type": "code",
      "source": [
        "\n",
        "class GRUModel(nn.Module):\n",
        "    def __init__(self, input_size=2, hidden_size=64, num_layers=2, output_size=2, dfuture=8):\n",
        "        super(GRUModel, self).__init__()\n",
        "        self.hidden_size = hidden_size\n",
        "        self.num_layers = num_layers\n",
        "        self.dfuture = dfuture\n",
        "        self.output_size = output_size\n",
        "\n",
        "        # GRU layer\n",
        "        self.gru = nn.GRU(input_size, hidden_size, num_layers, batch_first=True)\n",
        "\n",
        "        # Fully connected layer\n",
        "        self.fc = nn.Linear(hidden_size, dfuture * output_size)\n",
        "\n",
        "    def forward(self, x):\n",
        "        # Initialize hidden state\n",
        "        h0 = torch.zeros(self.num_layers, x.size(0), self.hidden_size).to(x.device)  # (num_layers, batch, hidden_size)\n",
        "\n",
        "        # Forward propagate GRU\n",
        "        out, _ = self.gru(x, h0)  # out: (batch, dpast, hidden_size)\n",
        "\n",
        "        # Take the output from the last timestep\n",
        "        out = out[:, -1, :]  # (batch, hidden_size)\n",
        "\n",
        "        # Pass through the fully connected layer\n",
        "        out = self.fc(out)    # (batch, dfuture * output_size)\n",
        "\n",
        "        # Reshape to (batch, dfuture, output_size)\n",
        "        out = out.view(-1, self.dfuture, self.output_size)\n",
        "\n",
        "        return out\n"
      ],
      "metadata": {
        "id": "RW9okUGVmxzl"
      },
      "id": "RW9okUGVmxzl",
      "execution_count": null,
      "outputs": []
    },
    {
      "cell_type": "code",
      "source": [
        "# Check for GPU\n",
        "device = torch.device('cuda' if torch.cuda.is_available() else 'cpu')\n",
        "print(f\"Using device: {device}\")\n",
        "\n",
        "# Initialize the model\n",
        "model = GRUModel(input_size=2, hidden_size=64, num_layers=2, output_size=2, dfuture=dfuture).to(device)\n",
        "\n",
        "# Define loss function and optimizer\n",
        "criterion = nn.MSELoss()\n",
        "optimizer = torch.optim.Adam(model.parameters(), lr=0.001)"
      ],
      "metadata": {
        "colab": {
          "base_uri": "https://localhost:8080/"
        },
        "id": "5rVZgUBTm8cO",
        "outputId": "8f93e51b-24ea-4390-b6c4-050c653470cb"
      },
      "id": "5rVZgUBTm8cO",
      "execution_count": null,
      "outputs": [
        {
          "output_type": "stream",
          "name": "stdout",
          "text": [
            "Using device: cpu\n"
          ]
        }
      ]
    },
    {
      "cell_type": "code",
      "source": [],
      "metadata": {
        "id": "azxL6Y5lnDhI"
      },
      "id": "azxL6Y5lnDhI",
      "execution_count": null,
      "outputs": []
    },
    {
      "cell_type": "code",
      "source": [
        "!pip install matplotlib\n"
      ],
      "metadata": {
        "colab": {
          "base_uri": "https://localhost:8080/"
        },
        "id": "rXND5krlRISc",
        "outputId": "6bca1c36-54a5-4954-b439-e5f243ff812f"
      },
      "id": "rXND5krlRISc",
      "execution_count": null,
      "outputs": [
        {
          "output_type": "stream",
          "name": "stdout",
          "text": [
            "Requirement already satisfied: matplotlib in /usr/local/lib/python3.10/dist-packages (3.8.0)\n",
            "Requirement already satisfied: contourpy>=1.0.1 in /usr/local/lib/python3.10/dist-packages (from matplotlib) (1.3.0)\n",
            "Requirement already satisfied: cycler>=0.10 in /usr/local/lib/python3.10/dist-packages (from matplotlib) (0.12.1)\n",
            "Requirement already satisfied: fonttools>=4.22.0 in /usr/local/lib/python3.10/dist-packages (from matplotlib) (4.54.1)\n",
            "Requirement already satisfied: kiwisolver>=1.0.1 in /usr/local/lib/python3.10/dist-packages (from matplotlib) (1.4.7)\n",
            "Requirement already satisfied: numpy<2,>=1.21 in /usr/local/lib/python3.10/dist-packages (from matplotlib) (1.26.4)\n",
            "Requirement already satisfied: packaging>=20.0 in /usr/local/lib/python3.10/dist-packages (from matplotlib) (24.1)\n",
            "Requirement already satisfied: pillow>=6.2.0 in /usr/local/lib/python3.10/dist-packages (from matplotlib) (10.4.0)\n",
            "Requirement already satisfied: pyparsing>=2.3.1 in /usr/local/lib/python3.10/dist-packages (from matplotlib) (3.2.0)\n",
            "Requirement already satisfied: python-dateutil>=2.7 in /usr/local/lib/python3.10/dist-packages (from matplotlib) (2.8.2)\n",
            "Requirement already satisfied: six>=1.5 in /usr/local/lib/python3.10/dist-packages (from python-dateutil>=2.7->matplotlib) (1.16.0)\n"
          ]
        }
      ]
    },
    {
      "cell_type": "code",
      "source": [
        "class MAPE(nn.Module):\n",
        "    def __init__(self):\n",
        "        super(MAPE, self).__init__()\n",
        "\n",
        "    def forward(self, y_pred, y_true):\n",
        "        epsilon = 1e-8  # To avoid division by zero\n",
        "        return torch.mean(torch.abs((y_true - y_pred) / (y_true + epsilon))) * 100\n",
        "\n",
        "# Initialize MAPE\n",
        "mape = MAPE().to(device)\n",
        "\n"
      ],
      "metadata": {
        "id": "QIcUvGIqR_Ly"
      },
      "id": "QIcUvGIqR_Ly",
      "execution_count": null,
      "outputs": []
    },
    {
      "cell_type": "code",
      "source": [
        "num_epochs = 2500  # Adjust as needed\n",
        "\n",
        "# Lists to store loss values\n",
        "train_mape_history = []\n",
        "val_mape_history = []\n",
        "\n",
        "import numpy as np\n",
        "import torch\n",
        "from torch.utils.data import Dataset, DataLoader  # Ensure Dataset and DataLoader are imported\n",
        "import torch.nn as nn\n",
        "from sklearn.preprocessing import StandardScaler\n",
        "import pickle\n",
        "import matplotlib.pyplot as plt  # Importing matplotlib for plotting\n",
        "\n",
        "# Assuming the rest of your setup (model, data loaders, etc.) is already done\n",
        "\n",
        "# Initialize MAPE\n",
        "mape = MAPE().to(device)\n",
        "\n",
        "# Lists to store loss values\n",
        "train_mape_history = []\n",
        "val_mape_history = []\n",
        "\n",
        "for epoch in range(num_epochs):\n",
        "    model.train()\n",
        "    train_loss = 0.0\n",
        "    train_mape = 0.0\n",
        "    for inputs, targets in train_loader:\n",
        "        inputs = inputs.to(device)\n",
        "        targets = targets.to(device)\n",
        "\n",
        "        # Forward pass\n",
        "        outputs = model(inputs)\n",
        "        loss = criterion(outputs, targets)\n",
        "        error = mape(outputs, targets)\n",
        "\n",
        "        # Backward and optimize\n",
        "        optimizer.zero_grad()\n",
        "        loss.backward()\n",
        "        optimizer.step()\n",
        "\n",
        "        train_loss += loss.item()\n",
        "        train_mape += error.item()\n",
        "\n",
        "    # Calculate average training loss and MAPE\n",
        "    avg_train_loss = train_loss / len(train_loader)\n",
        "    avg_train_mape = train_mape / len(train_loader)\n",
        "    train_mape_history.append(avg_train_mape)\n",
        "\n",
        "    # Validation loss and MAPE\n",
        "    model.eval()\n",
        "    val_loss = 0.0\n",
        "    val_mape = 0.0\n",
        "    with torch.no_grad():\n",
        "        for inputs, targets in test_loader:\n",
        "            inputs = inputs.to(device)\n",
        "            targets = targets.to(device)\n",
        "\n",
        "            outputs = model(inputs)\n",
        "            loss = criterion(outputs, targets)\n",
        "            error = mape(outputs, targets)\n",
        "\n",
        "            val_loss += loss.item()\n",
        "            val_mape += error.item()\n",
        "    avg_val_loss = val_loss / len(test_loader)\n",
        "    avg_val_mape = val_mape / len(test_loader)\n",
        "    val_mape_history.append(avg_val_mape)\n",
        "\n",
        "    # Print progress every 10 epochs\n",
        "    if (epoch + 1) % 10 == 0 or epoch == 0:\n",
        "        print(f\"Epoch [{epoch+1}/{num_epochs}], \"\n",
        "              f\"Training MSE: {avg_train_loss:.4f}, Training MAPE: {avg_train_mape:.2f}%, \"\n",
        "              f\"Validation MSE: {avg_val_loss:.4f}, Validation MAPE: {avg_val_mape:.2f}%\")\n"
      ],
      "metadata": {
        "colab": {
          "base_uri": "https://localhost:8080/"
        },
        "id": "Cs_OgB2GQ0dk",
        "outputId": "0c560b21-2c65-47de-edf3-54355a8c93d6"
      },
      "id": "Cs_OgB2GQ0dk",
      "execution_count": null,
      "outputs": [
        {
          "output_type": "stream",
          "name": "stdout",
          "text": [
            "Epoch [1/2500], Training MSE: 4488.2735, Training MAPE: 99.94%, Validation MSE: 3241.7759, Validation MAPE: 99.95%\n",
            "Epoch [10/2500], Training MSE: 4363.0665, Training MAPE: 92.33%, Validation MSE: 3050.0413, Validation MAPE: 95.63%\n",
            "Epoch [20/2500], Training MSE: 4225.5103, Training MAPE: 84.55%, Validation MSE: 2834.3279, Validation MAPE: 90.89%\n",
            "Epoch [30/2500], Training MSE: 4059.7198, Training MAPE: 84.18%, Validation MSE: 2608.2512, Validation MAPE: 86.21%\n",
            "Epoch [40/2500], Training MSE: 3842.7134, Training MAPE: 85.69%, Validation MSE: 2394.2275, Validation MAPE: 83.52%\n",
            "Epoch [50/2500], Training MSE: 3643.7924, Training MAPE: 85.85%, Validation MSE: 2217.3757, Validation MAPE: 81.63%\n",
            "Epoch [60/2500], Training MSE: 3448.3704, Training MAPE: 82.86%, Validation MSE: 2064.3739, Validation MAPE: 79.64%\n",
            "Epoch [70/2500], Training MSE: 3288.9045, Training MAPE: 80.17%, Validation MSE: 1933.6721, Validation MAPE: 78.01%\n",
            "Epoch [80/2500], Training MSE: 3151.6668, Training MAPE: 78.63%, Validation MSE: 1816.2670, Validation MAPE: 76.71%\n",
            "Epoch [90/2500], Training MSE: 3029.2671, Training MAPE: 76.79%, Validation MSE: 1710.1643, Validation MAPE: 75.58%\n",
            "Epoch [100/2500], Training MSE: 2926.7547, Training MAPE: 75.46%, Validation MSE: 1615.3277, Validation MAPE: 74.65%\n",
            "Epoch [110/2500], Training MSE: 2820.4387, Training MAPE: 73.99%, Validation MSE: 1528.1306, Validation MAPE: 73.66%\n",
            "Epoch [120/2500], Training MSE: 2728.6953, Training MAPE: 72.89%, Validation MSE: 1446.3901, Validation MAPE: 72.80%\n",
            "Epoch [130/2500], Training MSE: 2643.7991, Training MAPE: 71.89%, Validation MSE: 1370.8397, Validation MAPE: 72.01%\n",
            "Epoch [140/2500], Training MSE: 2564.4350, Training MAPE: 70.93%, Validation MSE: 1300.7399, Validation MAPE: 71.27%\n",
            "Epoch [150/2500], Training MSE: 2490.2932, Training MAPE: 70.01%, Validation MSE: 1235.5281, Validation MAPE: 70.56%\n",
            "Epoch [160/2500], Training MSE: 2420.6625, Training MAPE: 69.14%, Validation MSE: 1174.1841, Validation MAPE: 69.86%\n",
            "Epoch [170/2500], Training MSE: 2354.4443, Training MAPE: 68.39%, Validation MSE: 1116.8229, Validation MAPE: 69.20%\n",
            "Epoch [180/2500], Training MSE: 2292.8125, Training MAPE: 67.67%, Validation MSE: 1063.3417, Validation MAPE: 68.55%\n",
            "Epoch [190/2500], Training MSE: 2234.4313, Training MAPE: 66.82%, Validation MSE: 1012.4245, Validation MAPE: 67.85%\n",
            "Epoch [200/2500], Training MSE: 2179.0447, Training MAPE: 66.19%, Validation MSE: 964.4062, Validation MAPE: 67.14%\n",
            "Epoch [210/2500], Training MSE: 2125.1188, Training MAPE: 65.23%, Validation MSE: 919.8354, Validation MAPE: 66.50%\n",
            "Epoch [220/2500], Training MSE: 2075.7606, Training MAPE: 64.53%, Validation MSE: 877.4952, Validation MAPE: 65.85%\n",
            "Epoch [230/2500], Training MSE: 2028.9306, Training MAPE: 63.85%, Validation MSE: 838.4346, Validation MAPE: 65.25%\n",
            "Epoch [240/2500], Training MSE: 1984.3490, Training MAPE: 63.22%, Validation MSE: 801.1937, Validation MAPE: 64.62%\n",
            "Epoch [250/2500], Training MSE: 1942.3688, Training MAPE: 62.64%, Validation MSE: 766.3297, Validation MAPE: 64.07%\n",
            "Epoch [260/2500], Training MSE: 1902.4893, Training MAPE: 62.06%, Validation MSE: 733.7245, Validation MAPE: 63.53%\n",
            "Epoch [270/2500], Training MSE: 1864.2230, Training MAPE: 61.42%, Validation MSE: 702.8346, Validation MAPE: 62.95%\n",
            "Epoch [280/2500], Training MSE: 1827.3707, Training MAPE: 60.59%, Validation MSE: 673.5051, Validation MAPE: 62.09%\n",
            "Epoch [290/2500], Training MSE: 1792.0104, Training MAPE: 59.86%, Validation MSE: 646.6863, Validation MAPE: 61.21%\n",
            "Epoch [300/2500], Training MSE: 1756.2132, Training MAPE: 58.87%, Validation MSE: 621.7677, Validation MAPE: 59.88%\n",
            "Epoch [310/2500], Training MSE: 1721.3170, Training MAPE: 57.86%, Validation MSE: 599.0582, Validation MAPE: 58.55%\n",
            "Epoch [320/2500], Training MSE: 1687.5455, Training MAPE: 56.74%, Validation MSE: 578.8458, Validation MAPE: 57.36%\n",
            "Epoch [330/2500], Training MSE: 1652.8105, Training MAPE: 55.54%, Validation MSE: 560.6771, Validation MAPE: 56.21%\n",
            "Epoch [340/2500], Training MSE: 1979.8075, Training MAPE: 61.00%, Validation MSE: 536.7657, Validation MAPE: 57.45%\n",
            "Epoch [350/2500], Training MSE: 1600.7501, Training MAPE: 53.79%, Validation MSE: 526.1787, Validation MAPE: 54.63%\n",
            "Epoch [360/2500], Training MSE: 1569.7918, Training MAPE: 53.09%, Validation MSE: 509.0787, Validation MAPE: 53.77%\n",
            "Epoch [370/2500], Training MSE: 1543.7613, Training MAPE: 52.63%, Validation MSE: 497.1572, Validation MAPE: 53.47%\n",
            "Epoch [380/2500], Training MSE: 1508.7648, Training MAPE: 51.25%, Validation MSE: 498.0857, Validation MAPE: 52.86%\n",
            "Epoch [390/2500], Training MSE: 1480.0459, Training MAPE: 49.95%, Validation MSE: 488.1882, Validation MAPE: 52.88%\n",
            "Epoch [400/2500], Training MSE: 1445.9952, Training MAPE: 49.41%, Validation MSE: 470.7924, Validation MAPE: 52.36%\n",
            "Epoch [410/2500], Training MSE: 1415.0622, Training MAPE: 49.30%, Validation MSE: 448.9108, Validation MAPE: 51.75%\n",
            "Epoch [420/2500], Training MSE: 1376.2391, Training MAPE: 48.05%, Validation MSE: 423.6132, Validation MAPE: 51.54%\n",
            "Epoch [430/2500], Training MSE: 1366.5388, Training MAPE: 48.22%, Validation MSE: 398.6097, Validation MAPE: 51.44%\n",
            "Epoch [440/2500], Training MSE: 1332.6884, Training MAPE: 44.90%, Validation MSE: 378.4930, Validation MAPE: 51.62%\n",
            "Epoch [450/2500], Training MSE: 1312.3812, Training MAPE: 46.52%, Validation MSE: 371.9337, Validation MAPE: 50.99%\n",
            "Epoch [460/2500], Training MSE: 1295.4398, Training MAPE: 45.91%, Validation MSE: 358.6975, Validation MAPE: 50.78%\n",
            "Epoch [470/2500], Training MSE: 1267.3973, Training MAPE: 45.28%, Validation MSE: 349.8579, Validation MAPE: 49.96%\n",
            "Epoch [480/2500], Training MSE: 1233.1952, Training MAPE: 43.89%, Validation MSE: 353.9200, Validation MAPE: 49.50%\n",
            "Epoch [490/2500], Training MSE: 1225.6414, Training MAPE: 45.18%, Validation MSE: 340.9686, Validation MAPE: 49.46%\n",
            "Epoch [500/2500], Training MSE: 1257.5453, Training MAPE: 46.29%, Validation MSE: 347.6889, Validation MAPE: 47.38%\n",
            "Epoch [510/2500], Training MSE: 1212.8107, Training MAPE: 47.82%, Validation MSE: 346.8694, Validation MAPE: 48.72%\n",
            "Epoch [520/2500], Training MSE: 1162.9706, Training MAPE: 43.15%, Validation MSE: 334.5646, Validation MAPE: 48.82%\n",
            "Epoch [530/2500], Training MSE: 1112.0354, Training MAPE: 41.09%, Validation MSE: 312.2020, Validation MAPE: 48.36%\n",
            "Epoch [540/2500], Training MSE: 1111.4299, Training MAPE: 42.44%, Validation MSE: 297.9815, Validation MAPE: 48.36%\n",
            "Epoch [550/2500], Training MSE: 1106.5674, Training MAPE: 42.29%, Validation MSE: 297.1106, Validation MAPE: 48.07%\n",
            "Epoch [560/2500], Training MSE: 1075.3901, Training MAPE: 41.31%, Validation MSE: 273.2451, Validation MAPE: 48.10%\n",
            "Epoch [570/2500], Training MSE: 1055.2170, Training MAPE: 40.75%, Validation MSE: 264.7642, Validation MAPE: 48.13%\n",
            "Epoch [580/2500], Training MSE: 1061.0651, Training MAPE: 41.26%, Validation MSE: 256.6302, Validation MAPE: 47.58%\n",
            "Epoch [590/2500], Training MSE: 1016.2777, Training MAPE: 41.20%, Validation MSE: 249.4955, Validation MAPE: 48.50%\n",
            "Epoch [600/2500], Training MSE: 1005.9993, Training MAPE: 40.20%, Validation MSE: 242.1146, Validation MAPE: 48.40%\n",
            "Epoch [610/2500], Training MSE: 991.2998, Training MAPE: 39.65%, Validation MSE: 236.2294, Validation MAPE: 48.33%\n",
            "Epoch [620/2500], Training MSE: 941.6774, Training MAPE: 37.75%, Validation MSE: 228.6861, Validation MAPE: 48.30%\n",
            "Epoch [630/2500], Training MSE: 949.3065, Training MAPE: 39.24%, Validation MSE: 223.9029, Validation MAPE: 48.42%\n",
            "Epoch [640/2500], Training MSE: 935.1628, Training MAPE: 38.98%, Validation MSE: 221.9007, Validation MAPE: 48.61%\n",
            "Epoch [650/2500], Training MSE: 919.8107, Training MAPE: 38.66%, Validation MSE: 219.0382, Validation MAPE: 48.47%\n",
            "Epoch [660/2500], Training MSE: 905.7350, Training MAPE: 38.73%, Validation MSE: 218.7942, Validation MAPE: 48.33%\n",
            "Epoch [670/2500], Training MSE: 888.6173, Training MAPE: 38.11%, Validation MSE: 216.4144, Validation MAPE: 49.07%\n",
            "Epoch [680/2500], Training MSE: 883.3182, Training MAPE: 38.37%, Validation MSE: 219.0472, Validation MAPE: 49.46%\n",
            "Epoch [690/2500], Training MSE: 861.2753, Training MAPE: 37.72%, Validation MSE: 213.9526, Validation MAPE: 49.02%\n",
            "Epoch [700/2500], Training MSE: 849.0110, Training MAPE: 37.46%, Validation MSE: 213.4284, Validation MAPE: 49.05%\n",
            "Epoch [710/2500], Training MSE: 837.4400, Training MAPE: 36.92%, Validation MSE: 210.6212, Validation MAPE: 48.85%\n",
            "Epoch [720/2500], Training MSE: 823.0951, Training MAPE: 36.97%, Validation MSE: 212.6171, Validation MAPE: 48.92%\n",
            "Epoch [730/2500], Training MSE: 808.1256, Training MAPE: 36.51%, Validation MSE: 210.5632, Validation MAPE: 48.58%\n",
            "Epoch [740/2500], Training MSE: 796.5536, Training MAPE: 36.20%, Validation MSE: 210.6117, Validation MAPE: 48.42%\n",
            "Epoch [750/2500], Training MSE: 787.0976, Training MAPE: 35.86%, Validation MSE: 206.7005, Validation MAPE: 47.51%\n",
            "Epoch [760/2500], Training MSE: 774.3567, Training MAPE: 35.40%, Validation MSE: 195.8084, Validation MAPE: 45.96%\n",
            "Epoch [770/2500], Training MSE: 762.4646, Training MAPE: 35.01%, Validation MSE: 182.4890, Validation MAPE: 44.07%\n",
            "Epoch [780/2500], Training MSE: 764.9141, Training MAPE: 34.83%, Validation MSE: 139.3384, Validation MAPE: 34.79%\n",
            "Epoch [790/2500], Training MSE: 735.8116, Training MAPE: 33.14%, Validation MSE: 140.2437, Validation MAPE: 36.75%\n",
            "Epoch [800/2500], Training MSE: 726.1818, Training MAPE: 34.73%, Validation MSE: 127.0585, Validation MAPE: 33.86%\n",
            "Epoch [810/2500], Training MSE: 717.9324, Training MAPE: 29.74%, Validation MSE: 117.1446, Validation MAPE: 29.62%\n",
            "Epoch [820/2500], Training MSE: 705.6274, Training MAPE: 33.92%, Validation MSE: 115.0812, Validation MAPE: 31.78%\n",
            "Epoch [830/2500], Training MSE: 671.7392, Training MAPE: 30.01%, Validation MSE: 106.7850, Validation MAPE: 28.92%\n",
            "Epoch [840/2500], Training MSE: 650.7359, Training MAPE: 28.51%, Validation MSE: 105.3155, Validation MAPE: 26.34%\n",
            "Epoch [850/2500], Training MSE: 641.9093, Training MAPE: 29.04%, Validation MSE: 98.5153, Validation MAPE: 26.01%\n",
            "Epoch [860/2500], Training MSE: 627.4462, Training MAPE: 27.92%, Validation MSE: 98.9728, Validation MAPE: 25.47%\n",
            "Epoch [870/2500], Training MSE: 617.6141, Training MAPE: 27.21%, Validation MSE: 97.9866, Validation MAPE: 25.18%\n",
            "Epoch [880/2500], Training MSE: 608.0811, Training MAPE: 26.89%, Validation MSE: 93.9420, Validation MAPE: 24.78%\n",
            "Epoch [890/2500], Training MSE: 599.2131, Training MAPE: 27.27%, Validation MSE: 92.8418, Validation MAPE: 24.58%\n",
            "Epoch [900/2500], Training MSE: 591.1146, Training MAPE: 26.27%, Validation MSE: 84.5121, Validation MAPE: 23.71%\n",
            "Epoch [910/2500], Training MSE: 580.9056, Training MAPE: 26.43%, Validation MSE: 81.9588, Validation MAPE: 23.31%\n",
            "Epoch [920/2500], Training MSE: 572.7301, Training MAPE: 26.07%, Validation MSE: 78.1366, Validation MAPE: 23.04%\n",
            "Epoch [930/2500], Training MSE: 565.0665, Training MAPE: 25.85%, Validation MSE: 75.6752, Validation MAPE: 22.89%\n",
            "Epoch [940/2500], Training MSE: 556.6767, Training MAPE: 25.80%, Validation MSE: 73.7421, Validation MAPE: 22.79%\n",
            "Epoch [950/2500], Training MSE: 549.0244, Training MAPE: 25.56%, Validation MSE: 70.6316, Validation MAPE: 22.46%\n",
            "Epoch [960/2500], Training MSE: 538.1514, Training MAPE: 25.37%, Validation MSE: 68.8305, Validation MAPE: 22.40%\n",
            "Epoch [970/2500], Training MSE: 545.1167, Training MAPE: 26.87%, Validation MSE: 75.8539, Validation MAPE: 23.49%\n",
            "Epoch [980/2500], Training MSE: 926.8841, Training MAPE: 46.58%, Validation MSE: 235.9636, Validation MAPE: 52.72%\n",
            "Epoch [990/2500], Training MSE: 702.3467, Training MAPE: 39.64%, Validation MSE: 195.4661, Validation MAPE: 41.56%\n",
            "Epoch [1000/2500], Training MSE: 614.6557, Training MAPE: 35.59%, Validation MSE: 202.0450, Validation MAPE: 38.83%\n",
            "Epoch [1010/2500], Training MSE: 575.4770, Training MAPE: 33.26%, Validation MSE: 184.7437, Validation MAPE: 38.67%\n",
            "Epoch [1020/2500], Training MSE: 547.4871, Training MAPE: 31.93%, Validation MSE: 177.2613, Validation MAPE: 36.35%\n",
            "Epoch [1030/2500], Training MSE: 515.7754, Training MAPE: 31.04%, Validation MSE: 182.7075, Validation MAPE: 35.64%\n",
            "Epoch [1040/2500], Training MSE: 485.8320, Training MAPE: 29.64%, Validation MSE: 170.7078, Validation MAPE: 31.18%\n",
            "Epoch [1050/2500], Training MSE: 458.7576, Training MAPE: 26.37%, Validation MSE: 134.2203, Validation MAPE: 25.09%\n",
            "Epoch [1060/2500], Training MSE: 438.9086, Training MAPE: 24.98%, Validation MSE: 94.2335, Validation MAPE: 22.91%\n",
            "Epoch [1070/2500], Training MSE: 428.5151, Training MAPE: 24.65%, Validation MSE: 78.2254, Validation MAPE: 21.45%\n",
            "Epoch [1080/2500], Training MSE: 417.3323, Training MAPE: 22.73%, Validation MSE: 66.7801, Validation MAPE: 20.93%\n",
            "Epoch [1090/2500], Training MSE: 407.2329, Training MAPE: 22.37%, Validation MSE: 60.4906, Validation MAPE: 21.02%\n",
            "Epoch [1100/2500], Training MSE: 399.8210, Training MAPE: 22.08%, Validation MSE: 59.2975, Validation MAPE: 21.28%\n",
            "Epoch [1110/2500], Training MSE: 390.6921, Training MAPE: 22.88%, Validation MSE: 56.7391, Validation MAPE: 21.43%\n",
            "Epoch [1120/2500], Training MSE: 383.5001, Training MAPE: 22.62%, Validation MSE: 55.4112, Validation MAPE: 21.34%\n",
            "Epoch [1130/2500], Training MSE: 376.8615, Training MAPE: 22.59%, Validation MSE: 54.3841, Validation MAPE: 21.30%\n",
            "Epoch [1140/2500], Training MSE: 370.4712, Training MAPE: 22.10%, Validation MSE: 53.5546, Validation MAPE: 21.17%\n",
            "Epoch [1150/2500], Training MSE: 364.1967, Training MAPE: 21.93%, Validation MSE: 52.3117, Validation MAPE: 21.06%\n",
            "Epoch [1160/2500], Training MSE: 357.7773, Training MAPE: 21.39%, Validation MSE: 52.4949, Validation MAPE: 21.28%\n",
            "Epoch [1170/2500], Training MSE: 340.9288, Training MAPE: 21.15%, Validation MSE: 49.8074, Validation MAPE: 20.91%\n",
            "Epoch [1180/2500], Training MSE: 325.3318, Training MAPE: 20.32%, Validation MSE: 49.7854, Validation MAPE: 20.91%\n",
            "Epoch [1190/2500], Training MSE: 317.7356, Training MAPE: 20.48%, Validation MSE: 51.2161, Validation MAPE: 21.24%\n",
            "Epoch [1200/2500], Training MSE: 311.5698, Training MAPE: 20.53%, Validation MSE: 50.4618, Validation MAPE: 20.99%\n",
            "Epoch [1210/2500], Training MSE: 305.5481, Training MAPE: 20.15%, Validation MSE: 50.1072, Validation MAPE: 20.91%\n",
            "Epoch [1220/2500], Training MSE: 300.2463, Training MAPE: 19.96%, Validation MSE: 49.1405, Validation MAPE: 20.72%\n",
            "Epoch [1230/2500], Training MSE: 294.9177, Training MAPE: 19.66%, Validation MSE: 48.5236, Validation MAPE: 20.61%\n",
            "Epoch [1240/2500], Training MSE: 289.9560, Training MAPE: 19.34%, Validation MSE: 47.9893, Validation MAPE: 20.53%\n",
            "Epoch [1250/2500], Training MSE: 285.1663, Training MAPE: 19.32%, Validation MSE: 46.8643, Validation MAPE: 20.10%\n",
            "Epoch [1260/2500], Training MSE: 280.3815, Training MAPE: 18.98%, Validation MSE: 46.4761, Validation MAPE: 20.04%\n",
            "Epoch [1270/2500], Training MSE: 275.8483, Training MAPE: 18.94%, Validation MSE: 45.7398, Validation MAPE: 19.83%\n",
            "Epoch [1280/2500], Training MSE: 271.3464, Training MAPE: 18.73%, Validation MSE: 45.2308, Validation MAPE: 19.67%\n",
            "Epoch [1290/2500], Training MSE: 267.0306, Training MAPE: 18.57%, Validation MSE: 44.7494, Validation MAPE: 19.52%\n",
            "Epoch [1300/2500], Training MSE: 262.8510, Training MAPE: 18.47%, Validation MSE: 44.3269, Validation MAPE: 19.37%\n",
            "Epoch [1310/2500], Training MSE: 258.6411, Training MAPE: 18.26%, Validation MSE: 43.8425, Validation MAPE: 19.22%\n",
            "Epoch [1320/2500], Training MSE: 254.6709, Training MAPE: 18.14%, Validation MSE: 43.0436, Validation MAPE: 18.84%\n",
            "Epoch [1330/2500], Training MSE: 250.6176, Training MAPE: 17.99%, Validation MSE: 42.8348, Validation MAPE: 18.71%\n",
            "Epoch [1340/2500], Training MSE: 245.9185, Training MAPE: 17.83%, Validation MSE: 42.3975, Validation MAPE: 18.52%\n",
            "Epoch [1350/2500], Training MSE: 241.9671, Training MAPE: 17.72%, Validation MSE: 41.5148, Validation MAPE: 18.25%\n",
            "Epoch [1360/2500], Training MSE: 238.2810, Training MAPE: 17.49%, Validation MSE: 41.3252, Validation MAPE: 18.24%\n",
            "Epoch [1370/2500], Training MSE: 234.6715, Training MAPE: 17.32%, Validation MSE: 40.4049, Validation MAPE: 18.09%\n",
            "Epoch [1380/2500], Training MSE: 231.1338, Training MAPE: 17.18%, Validation MSE: 40.2361, Validation MAPE: 17.97%\n",
            "Epoch [1390/2500], Training MSE: 227.6996, Training MAPE: 17.00%, Validation MSE: 39.9139, Validation MAPE: 17.84%\n",
            "Epoch [1400/2500], Training MSE: 224.2044, Training MAPE: 16.86%, Validation MSE: 39.0651, Validation MAPE: 17.57%\n",
            "Epoch [1410/2500], Training MSE: 220.8559, Training MAPE: 16.69%, Validation MSE: 38.8370, Validation MAPE: 17.44%\n",
            "Epoch [1420/2500], Training MSE: 217.7406, Training MAPE: 16.62%, Validation MSE: 37.7157, Validation MAPE: 17.19%\n",
            "Epoch [1430/2500], Training MSE: 215.0756, Training MAPE: 16.71%, Validation MSE: 35.8548, Validation MAPE: 16.93%\n",
            "Epoch [1440/2500], Training MSE: 211.4820, Training MAPE: 16.28%, Validation MSE: 35.6633, Validation MAPE: 16.89%\n",
            "Epoch [1450/2500], Training MSE: 208.5434, Training MAPE: 16.09%, Validation MSE: 35.4030, Validation MAPE: 16.76%\n",
            "Epoch [1460/2500], Training MSE: 205.6822, Training MAPE: 15.97%, Validation MSE: 33.7841, Validation MAPE: 16.55%\n",
            "Epoch [1470/2500], Training MSE: 202.7987, Training MAPE: 15.83%, Validation MSE: 32.3828, Validation MAPE: 16.42%\n",
            "Epoch [1480/2500], Training MSE: 200.1749, Training MAPE: 15.85%, Validation MSE: 32.8545, Validation MAPE: 16.33%\n",
            "Epoch [1490/2500], Training MSE: 197.3894, Training MAPE: 15.49%, Validation MSE: 31.9424, Validation MAPE: 16.18%\n",
            "Epoch [1500/2500], Training MSE: 194.8256, Training MAPE: 15.46%, Validation MSE: 31.9786, Validation MAPE: 15.97%\n",
            "Epoch [1510/2500], Training MSE: 192.1705, Training MAPE: 15.29%, Validation MSE: 30.6791, Validation MAPE: 15.71%\n",
            "Epoch [1520/2500], Training MSE: 189.6923, Training MAPE: 15.19%, Validation MSE: 31.4193, Validation MAPE: 15.75%\n",
            "Epoch [1530/2500], Training MSE: 187.1943, Training MAPE: 14.95%, Validation MSE: 31.1535, Validation MAPE: 15.55%\n",
            "Epoch [1540/2500], Training MSE: 184.8003, Training MAPE: 14.78%, Validation MSE: 31.3599, Validation MAPE: 15.51%\n",
            "Epoch [1550/2500], Training MSE: 182.3635, Training MAPE: 14.61%, Validation MSE: 30.4159, Validation MAPE: 15.34%\n",
            "Epoch [1560/2500], Training MSE: 180.1090, Training MAPE: 14.52%, Validation MSE: 29.2611, Validation MAPE: 15.07%\n",
            "Epoch [1570/2500], Training MSE: 177.2432, Training MAPE: 14.37%, Validation MSE: 29.4917, Validation MAPE: 15.09%\n",
            "Epoch [1580/2500], Training MSE: 174.9217, Training MAPE: 14.24%, Validation MSE: 28.8287, Validation MAPE: 15.00%\n",
            "Epoch [1590/2500], Training MSE: 172.7072, Training MAPE: 14.05%, Validation MSE: 30.1487, Validation MAPE: 15.14%\n",
            "Epoch [1600/2500], Training MSE: 170.5401, Training MAPE: 13.90%, Validation MSE: 29.4739, Validation MAPE: 15.10%\n",
            "Epoch [1610/2500], Training MSE: 168.4090, Training MAPE: 13.80%, Validation MSE: 29.3087, Validation MAPE: 15.05%\n",
            "Epoch [1620/2500], Training MSE: 166.3646, Training MAPE: 13.73%, Validation MSE: 29.1840, Validation MAPE: 15.10%\n",
            "Epoch [1630/2500], Training MSE: 164.2699, Training MAPE: 13.64%, Validation MSE: 28.8420, Validation MAPE: 15.02%\n",
            "Epoch [1640/2500], Training MSE: 161.9268, Training MAPE: 13.55%, Validation MSE: 29.6101, Validation MAPE: 15.05%\n",
            "Epoch [1650/2500], Training MSE: 148.7729, Training MAPE: 13.08%, Validation MSE: 30.6695, Validation MAPE: 15.07%\n",
            "Epoch [1660/2500], Training MSE: 146.0292, Training MAPE: 12.90%, Validation MSE: 26.8338, Validation MAPE: 14.44%\n",
            "Epoch [1670/2500], Training MSE: 143.4985, Training MAPE: 12.85%, Validation MSE: 27.7365, Validation MAPE: 14.62%\n",
            "Epoch [1680/2500], Training MSE: 140.9474, Training MAPE: 12.86%, Validation MSE: 28.3572, Validation MAPE: 14.72%\n",
            "Epoch [1690/2500], Training MSE: 138.5911, Training MAPE: 12.72%, Validation MSE: 28.3627, Validation MAPE: 14.83%\n",
            "Epoch [1700/2500], Training MSE: 136.4168, Training MAPE: 12.70%, Validation MSE: 27.4211, Validation MAPE: 14.79%\n",
            "Epoch [1710/2500], Training MSE: 134.2355, Training MAPE: 12.62%, Validation MSE: 28.3817, Validation MAPE: 14.87%\n",
            "Epoch [1720/2500], Training MSE: 132.1845, Training MAPE: 12.44%, Validation MSE: 28.2941, Validation MAPE: 15.00%\n",
            "Epoch [1730/2500], Training MSE: 130.1470, Training MAPE: 12.41%, Validation MSE: 28.1510, Validation MAPE: 15.00%\n",
            "Epoch [1740/2500], Training MSE: 128.2531, Training MAPE: 12.45%, Validation MSE: 27.9099, Validation MAPE: 15.07%\n",
            "Epoch [1750/2500], Training MSE: 126.2506, Training MAPE: 12.41%, Validation MSE: 26.6901, Validation MAPE: 14.99%\n",
            "Epoch [1760/2500], Training MSE: 115.4832, Training MAPE: 11.95%, Validation MSE: 25.9771, Validation MAPE: 15.28%\n",
            "Epoch [1770/2500], Training MSE: 113.5914, Training MAPE: 12.28%, Validation MSE: 26.8445, Validation MAPE: 15.19%\n",
            "Epoch [1780/2500], Training MSE: 111.4975, Training MAPE: 11.85%, Validation MSE: 25.4291, Validation MAPE: 15.11%\n",
            "Epoch [1790/2500], Training MSE: 109.6213, Training MAPE: 11.68%, Validation MSE: 23.9912, Validation MAPE: 14.98%\n",
            "Epoch [1800/2500], Training MSE: 107.8557, Training MAPE: 11.58%, Validation MSE: 24.2725, Validation MAPE: 15.21%\n",
            "Epoch [1810/2500], Training MSE: 106.2113, Training MAPE: 11.52%, Validation MSE: 24.2056, Validation MAPE: 15.20%\n",
            "Epoch [1820/2500], Training MSE: 127.7104, Training MAPE: 15.29%, Validation MSE: 44.9695, Validation MAPE: 17.91%\n",
            "Epoch [1830/2500], Training MSE: 1064.7419, Training MAPE: 28.92%, Validation MSE: 78.0862, Validation MAPE: 24.19%\n",
            "Epoch [1840/2500], Training MSE: 795.8054, Training MAPE: 20.43%, Validation MSE: 32.7509, Validation MAPE: 20.10%\n",
            "Epoch [1850/2500], Training MSE: 688.7727, Training MAPE: 16.99%, Validation MSE: 26.4809, Validation MAPE: 17.71%\n",
            "Epoch [1860/2500], Training MSE: 665.7354, Training MAPE: 16.14%, Validation MSE: 24.6267, Validation MAPE: 16.81%\n",
            "Epoch [1870/2500], Training MSE: 610.3488, Training MAPE: 15.63%, Validation MSE: 23.3095, Validation MAPE: 16.36%\n",
            "Epoch [1880/2500], Training MSE: 507.0957, Training MAPE: 15.92%, Validation MSE: 23.4425, Validation MAPE: 16.73%\n",
            "Epoch [1890/2500], Training MSE: 368.1409, Training MAPE: 15.42%, Validation MSE: 24.8206, Validation MAPE: 16.81%\n",
            "Epoch [1900/2500], Training MSE: 104.8828, Training MAPE: 14.55%, Validation MSE: 26.9559, Validation MAPE: 17.51%\n",
            "Epoch [1910/2500], Training MSE: 101.1616, Training MAPE: 13.67%, Validation MSE: 25.0900, Validation MAPE: 16.26%\n",
            "Epoch [1920/2500], Training MSE: 99.0731, Training MAPE: 13.30%, Validation MSE: 23.8239, Validation MAPE: 15.60%\n",
            "Epoch [1930/2500], Training MSE: 97.2706, Training MAPE: 13.01%, Validation MSE: 23.2103, Validation MAPE: 15.21%\n",
            "Epoch [1940/2500], Training MSE: 95.5363, Training MAPE: 12.75%, Validation MSE: 22.5373, Validation MAPE: 14.77%\n",
            "Epoch [1950/2500], Training MSE: 93.9670, Training MAPE: 12.50%, Validation MSE: 21.9414, Validation MAPE: 14.39%\n",
            "Epoch [1960/2500], Training MSE: 92.4080, Training MAPE: 12.29%, Validation MSE: 21.5096, Validation MAPE: 14.02%\n",
            "Epoch [1970/2500], Training MSE: 90.9948, Training MAPE: 12.12%, Validation MSE: 21.3037, Validation MAPE: 13.88%\n",
            "Epoch [1980/2500], Training MSE: 89.6246, Training MAPE: 11.96%, Validation MSE: 20.4172, Validation MAPE: 13.61%\n",
            "Epoch [1990/2500], Training MSE: 88.2460, Training MAPE: 11.82%, Validation MSE: 18.6640, Validation MAPE: 13.30%\n",
            "Epoch [2000/2500], Training MSE: 86.9143, Training MAPE: 11.71%, Validation MSE: 18.0235, Validation MAPE: 13.29%\n",
            "Epoch [2010/2500], Training MSE: 85.6493, Training MAPE: 11.58%, Validation MSE: 17.7127, Validation MAPE: 13.24%\n",
            "Epoch [2020/2500], Training MSE: 84.4243, Training MAPE: 11.47%, Validation MSE: 17.6869, Validation MAPE: 13.34%\n",
            "Epoch [2030/2500], Training MSE: 83.2511, Training MAPE: 11.38%, Validation MSE: 17.2943, Validation MAPE: 13.39%\n",
            "Epoch [2040/2500], Training MSE: 82.1099, Training MAPE: 11.29%, Validation MSE: 17.4147, Validation MAPE: 13.47%\n",
            "Epoch [2050/2500], Training MSE: 80.9617, Training MAPE: 11.21%, Validation MSE: 16.9853, Validation MAPE: 13.47%\n",
            "Epoch [2060/2500], Training MSE: 79.8417, Training MAPE: 11.13%, Validation MSE: 16.7369, Validation MAPE: 13.51%\n",
            "Epoch [2070/2500], Training MSE: 78.7127, Training MAPE: 11.06%, Validation MSE: 16.7729, Validation MAPE: 13.54%\n",
            "Epoch [2080/2500], Training MSE: 77.6521, Training MAPE: 10.98%, Validation MSE: 16.6790, Validation MAPE: 13.56%\n",
            "Epoch [2090/2500], Training MSE: 76.5604, Training MAPE: 10.92%, Validation MSE: 16.5482, Validation MAPE: 13.54%\n",
            "Epoch [2100/2500], Training MSE: 75.4803, Training MAPE: 10.85%, Validation MSE: 16.3534, Validation MAPE: 13.60%\n",
            "Epoch [2110/2500], Training MSE: 74.3872, Training MAPE: 10.79%, Validation MSE: 16.4095, Validation MAPE: 13.59%\n",
            "Epoch [2120/2500], Training MSE: 73.2927, Training MAPE: 10.73%, Validation MSE: 16.1818, Validation MAPE: 13.56%\n",
            "Epoch [2130/2500], Training MSE: 72.2450, Training MAPE: 10.65%, Validation MSE: 15.9734, Validation MAPE: 13.50%\n",
            "Epoch [2140/2500], Training MSE: 71.2302, Training MAPE: 10.60%, Validation MSE: 15.7562, Validation MAPE: 13.47%\n",
            "Epoch [2150/2500], Training MSE: 70.1677, Training MAPE: 10.51%, Validation MSE: 15.8235, Validation MAPE: 13.46%\n",
            "Epoch [2160/2500], Training MSE: 69.1562, Training MAPE: 10.43%, Validation MSE: 15.7520, Validation MAPE: 13.44%\n",
            "Epoch [2170/2500], Training MSE: 68.1856, Training MAPE: 10.34%, Validation MSE: 15.5215, Validation MAPE: 13.39%\n",
            "Epoch [2180/2500], Training MSE: 67.2364, Training MAPE: 10.26%, Validation MSE: 15.4775, Validation MAPE: 13.38%\n",
            "Epoch [2190/2500], Training MSE: 66.2638, Training MAPE: 10.17%, Validation MSE: 15.4093, Validation MAPE: 13.38%\n",
            "Epoch [2200/2500], Training MSE: 65.3250, Training MAPE: 10.08%, Validation MSE: 15.3503, Validation MAPE: 13.40%\n",
            "Epoch [2210/2500], Training MSE: 64.4134, Training MAPE: 10.01%, Validation MSE: 15.2234, Validation MAPE: 13.28%\n",
            "Epoch [2220/2500], Training MSE: 63.4968, Training MAPE: 9.90%, Validation MSE: 15.0432, Validation MAPE: 13.25%\n",
            "Epoch [2230/2500], Training MSE: 62.5572, Training MAPE: 9.81%, Validation MSE: 15.0608, Validation MAPE: 13.31%\n",
            "Epoch [2240/2500], Training MSE: 61.6707, Training MAPE: 9.72%, Validation MSE: 14.8347, Validation MAPE: 13.35%\n",
            "Epoch [2250/2500], Training MSE: 60.7751, Training MAPE: 9.61%, Validation MSE: 14.9048, Validation MAPE: 13.36%\n",
            "Epoch [2260/2500], Training MSE: 59.9253, Training MAPE: 9.54%, Validation MSE: 14.7148, Validation MAPE: 13.41%\n",
            "Epoch [2270/2500], Training MSE: 59.0517, Training MAPE: 9.43%, Validation MSE: 14.6645, Validation MAPE: 13.41%\n",
            "Epoch [2280/2500], Training MSE: 58.2175, Training MAPE: 9.37%, Validation MSE: 14.5939, Validation MAPE: 13.34%\n",
            "Epoch [2290/2500], Training MSE: 57.3401, Training MAPE: 9.28%, Validation MSE: 14.8952, Validation MAPE: 13.44%\n",
            "Epoch [2300/2500], Training MSE: 50.8780, Training MAPE: 8.95%, Validation MSE: 13.3930, Validation MAPE: 13.14%\n",
            "Epoch [2310/2500], Training MSE: 50.0313, Training MAPE: 8.85%, Validation MSE: 13.7399, Validation MAPE: 13.13%\n",
            "Epoch [2320/2500], Training MSE: 49.5895, Training MAPE: 8.98%, Validation MSE: 13.6465, Validation MAPE: 13.27%\n",
            "Epoch [2330/2500], Training MSE: 48.5708, Training MAPE: 8.77%, Validation MSE: 13.4903, Validation MAPE: 13.16%\n",
            "Epoch [2340/2500], Training MSE: 44.5013, Training MAPE: 8.87%, Validation MSE: 13.9525, Validation MAPE: 12.98%\n",
            "Epoch [2350/2500], Training MSE: 42.7895, Training MAPE: 8.56%, Validation MSE: 14.1382, Validation MAPE: 13.31%\n",
            "Epoch [2360/2500], Training MSE: 41.9825, Training MAPE: 8.48%, Validation MSE: 13.4692, Validation MAPE: 13.12%\n",
            "Epoch [2370/2500], Training MSE: 41.1966, Training MAPE: 8.34%, Validation MSE: 13.3971, Validation MAPE: 13.09%\n",
            "Epoch [2380/2500], Training MSE: 40.5307, Training MAPE: 8.24%, Validation MSE: 13.1602, Validation MAPE: 13.03%\n",
            "Epoch [2390/2500], Training MSE: 39.8502, Training MAPE: 8.14%, Validation MSE: 13.0978, Validation MAPE: 13.04%\n",
            "Epoch [2400/2500], Training MSE: 39.1642, Training MAPE: 8.03%, Validation MSE: 13.0309, Validation MAPE: 12.87%\n",
            "Epoch [2410/2500], Training MSE: 38.5746, Training MAPE: 7.98%, Validation MSE: 12.8240, Validation MAPE: 12.99%\n",
            "Epoch [2420/2500], Training MSE: 37.9519, Training MAPE: 7.92%, Validation MSE: 12.6101, Validation MAPE: 12.82%\n",
            "Epoch [2430/2500], Training MSE: 37.3331, Training MAPE: 7.87%, Validation MSE: 12.8242, Validation MAPE: 12.90%\n",
            "Epoch [2440/2500], Training MSE: 36.7547, Training MAPE: 7.89%, Validation MSE: 12.5556, Validation MAPE: 12.80%\n",
            "Epoch [2450/2500], Training MSE: 36.1785, Training MAPE: 7.70%, Validation MSE: 12.4639, Validation MAPE: 12.83%\n",
            "Epoch [2460/2500], Training MSE: 35.5726, Training MAPE: 7.65%, Validation MSE: 12.3322, Validation MAPE: 12.60%\n",
            "Epoch [2470/2500], Training MSE: 34.9078, Training MAPE: 7.51%, Validation MSE: 12.0966, Validation MAPE: 12.37%\n",
            "Epoch [2480/2500], Training MSE: 34.4890, Training MAPE: 7.53%, Validation MSE: 12.3665, Validation MAPE: 12.51%\n",
            "Epoch [2490/2500], Training MSE: 33.8578, Training MAPE: 7.40%, Validation MSE: 12.0644, Validation MAPE: 12.38%\n",
            "Epoch [2500/2500], Training MSE: 33.3076, Training MAPE: 7.34%, Validation MSE: 11.7356, Validation MAPE: 12.33%\n"
          ]
        }
      ]
    },
    {
      "cell_type": "code",
      "source": [
        "import matplotlib.pyplot as plt\n",
        "\n",
        "def plot_mape(train_mape, val_mape, num_epochs, save_path=None):\n",
        "    \"\"\"\n",
        "    Plots Training and Validation MAPE over epochs and optionally saves the plot.\n",
        "\n",
        "    Args:\n",
        "        train_mape (list or array): Training MAPE values per epoch.\n",
        "        val_mape (list or array): Validation MAPE values per epoch.\n",
        "        num_epochs (int): Total number of epochs.\n",
        "        save_path (str, optional): Path to save the plot image. If None, the plot is not saved.\n",
        "    \"\"\"\n",
        "    epochs = range(1, num_epochs + 1)\n",
        "    plt.figure(figsize=(12, 6))\n",
        "    plt.plot(epochs, train_mape, label='Training MAPE', color='blue', marker='o')\n",
        "    plt.plot(epochs, val_mape, label='Validation MAPE', color='red', marker='x')\n",
        "    plt.xlabel('Epoch')\n",
        "    plt.ylabel('MAPE (%)')\n",
        "    plt.title('Training and Validation MAPE over Epochs')\n",
        "    plt.legend()\n",
        "    plt.grid(True)\n",
        "    plt.tight_layout()\n",
        "\n",
        "    if save_path:\n",
        "        plt.savefig(save_path, dpi=300)  # dpi=300 for high-resolution images\n",
        "        print(f\"Plot saved as '{save_path}'\")\n",
        "\n",
        "    plt.show()\n"
      ],
      "metadata": {
        "id": "-zX5BorDVqd-"
      },
      "id": "-zX5BorDVqd-",
      "execution_count": null,
      "outputs": []
    },
    {
      "cell_type": "code",
      "source": [
        "# After training is complete\n",
        "# train_mape_history = train_mape_history[1:2480]\n",
        "# val_mape_history = val_mape_history[1:2480]\n",
        "plot_mape(train_mape_history, val_mape_history, num_epochs , save_path='mape_plot.png')\n"
      ],
      "metadata": {
        "colab": {
          "base_uri": "https://localhost:8080/",
          "height": 459
        },
        "id": "EiEA70gtVuVV",
        "outputId": "0bd14fe2-d506-4b0e-c721-1d5758896868"
      },
      "id": "EiEA70gtVuVV",
      "execution_count": null,
      "outputs": [
        {
          "output_type": "stream",
          "name": "stdout",
          "text": [
            "Plot saved as 'mape_plot.png'\n"
          ]
        },
        {
          "output_type": "display_data",
          "data": {
            "text/plain": [
              "<Figure size 1200x600 with 1 Axes>"
            ],
            "image/png": "[encoded data removed]"
          },
          "metadata": {}
        }
      ]
    },
    {
      "cell_type": "code",
      "source": [
        "torch.save(model.state_dict(), 'gru_attack_predictor.pth')\n",
        "print(\"Model saved as 'gru_attack_predictor.pth'\")"
      ],
      "metadata": {
        "colab": {
          "base_uri": "https://localhost:8080/"
        },
        "id": "YT3WunSXnYkL",
        "outputId": "d33cd145-eb10-48a4-beae-fd962d35e5dd"
      },
      "id": "YT3WunSXnYkL",
      "execution_count": null,
      "outputs": [
        {
          "output_type": "stream",
          "name": "stdout",
          "text": [
            "Model saved as 'gru_attack_predictor.pth'\n"
          ]
        }
      ]
    },
    {
      "cell_type": "markdown",
      "source": [
        "\n",
        "\n",
        "\n",
        "\n",
        "\n",
        "\n"
      ],
      "metadata": {
        "id": "Q0AAANN5MFXw"
      },
      "id": "Q0AAANN5MFXw"
    }
  ],
  "metadata": {
    "kernelspec": {
      "display_name": "Python 3 (ipykernel)",
      "language": "python",
      "name": "python3"
    },
    "language_info": {
      "codemirror_mode": {
        "name": "ipython",
        "version": 3
      },
      "file_extension": ".py",
      "mimetype": "text/x-python",
      "name": "python",
      "nbconvert_exporter": "python",
      "pygments_lexer": "ipython3",
      "version": "3.9.13"
    },
    "colab": {
      "provenance": []
    }
  },
  "nbformat": 4,
  "nbformat_minor": 5
}